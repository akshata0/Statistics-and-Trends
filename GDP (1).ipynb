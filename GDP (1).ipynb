{
 "cells": [
  {
   "cell_type": "code",
   "execution_count": null,
   "id": "5d73cc86-f834-4ce0-afad-dfcf462886c8",
   "metadata": {},
   "outputs": [],
   "source": [
    "import numpy as np\n",
    "import pandas as pd\n",
    "import matplotlib.pyplot as plt\n",
    "from scipy.stats import skew, kurtosis"
   ]
  },
  {
   "cell_type": "code",
   "execution_count": null,
   "id": "58a05237-3597-49d4-9cb2-3088ed4e6f9e",
   "metadata": {},
   "outputs": [],
   "source": [
    "\"\"\" READING CSV FILE \"\"\"\n",
    "df_world = pd.read_csv('gdp.csv')"
   ]
  },
  {
   "cell_type": "code",
   "execution_count": null,
   "id": "549fe369-179b-4182-8065-84becc50656d",
   "metadata": {},
   "outputs": [],
   "source": [
    "df_world.head()"
   ]
  },
  {
   "cell_type": "code",
   "execution_count": null,
   "id": "5bceae22-149d-4bf4-93b5-a615d246343e",
   "metadata": {},
   "outputs": [],
   "source": [
    "df_world.info() "
   ]
  },
  {
   "cell_type": "code",
   "execution_count": null,
   "id": "75baec94-4b93-48f7-8e6c-7d7417c48940",
   "metadata": {},
   "outputs": [],
   "source": [
    "# Counting the number of occurences\n",
    "country_counts = df_world['Country'].value_counts()\n",
    "\n",
    "# To display the count of each country\n",
    "print(country_counts)"
   ]
  },
  {
   "cell_type": "code",
   "execution_count": null,
   "id": "7ca32e1c-5f07-4e7a-af36-da621e965b9f",
   "metadata": {},
   "outputs": [],
   "source": [
    "duplicateCL=df_world.T.duplicated()\n",
    "duplicate_col_names = df_world.columns[duplicateCL]\n",
    "\n",
    "\n",
    "print(\"Duplicate columns:\", list(duplicate_col_names))"
   ]
  },
  {
   "cell_type": "code",
   "execution_count": null,
   "id": "07c6dff7-ee08-4d63-853f-3e60ff8fcab7",
   "metadata": {},
   "outputs": [],
   "source": [
    "# To check null Value in dataset \n",
    "df_world.isnull().sum()"
   ]
  },
  {
   "cell_type": "code",
   "execution_count": null,
   "id": "27244420-22fc-4315-8a3b-f66b90f18b4b",
   "metadata": {},
   "outputs": [],
   "source": [
    "rows_with_null = df_world[df_world.isnull().any(axis=1)]\n",
    "print(\"Rows with null values:\")\n",
    "print(rows_with_null)"
   ]
  },
  {
   "cell_type": "code",
   "execution_count": null,
   "id": "c4cacde6-e512-4b71-a689-da5f0ba64b45",
   "metadata": {},
   "outputs": [],
   "source": [
    "df_world.tail(5)"
   ]
  },
  {
   "cell_type": "code",
   "execution_count": null,
   "id": "c85b4418-896f-4c7f-ab26-87f8b1c0f638",
   "metadata": {},
   "outputs": [],
   "source": [
    "df_world.describe()"
   ]
  },
  {
   "cell_type": "code",
   "execution_count": null,
   "id": "11fc08be-b455-4791-9b82-c2f6946c95c1",
   "metadata": {},
   "outputs": [],
   "source": [
    "# Calculate descriptive statistics\n",
    "gdp_mean = df_world.mean()\n",
    "gdp_median = df_world.median()\n",
    "gdp_std = df_world.std()\n",
    "gdp_skew = skew(df_world, axis=0, nan_policy='omit')\n",
    "gdp_kurtosis = kurtosis(df_world, axis=0, nan_policy='omit')\n",
    "\n",
    "# Correlation matrix\n",
    "correlation_matrix = df_world.corr()"
   ]
  },
  {
   "cell_type": "code",
   "execution_count": null,
   "id": "f65cf4ba-be76-4831-97b2-ca3b92d7d7f1",
   "metadata": {},
   "outputs": [],
   "source": [
    "#making copy of original df \n",
    "df_modified = df_world.copy()"
   ]
  },
  {
   "cell_type": "code",
   "execution_count": null,
   "id": "5a818151-ab03-4152-9566-e46aa1f28d2b",
   "metadata": {},
   "outputs": [],
   "source": [
    "df_modified['Average_GDP'] = df_modified.iloc[:, 1:].mean(axis=1)\n",
    "print(df_modified)\n"
   ]
  },
  {
   "cell_type": "code",
   "execution_count": null,
   "id": "1af01f5d-09b2-4081-a6e7-599e729680b0",
   "metadata": {},
   "outputs": [],
   "source": [
    "# Get the top 5 countries with the highest average GDP\n",
    "top_5_highest_gdp = df_modified.nlargest(5, 'Average_GDP')\n",
    "\n",
    "top_5_highest_gdp"
   ]
  },
  {
   "cell_type": "code",
   "execution_count": null,
   "id": "f44e3a66-1503-4dd0-9a37-5d86f610bf01",
   "metadata": {},
   "outputs": [],
   "source": [
    "#get the last 5 with lowest gdp \n",
    "bottom_5_lowest_gdp = df_modified.nsmallest(5, 'Average_GDP')\n",
    "bottom_5_lowest_gdp"
   ]
  },
  {
   "cell_type": "code",
   "execution_count": null,
   "id": "1df06f74-6ff1-4a0e-b23f-0fa00bedb1a1",
   "metadata": {},
   "outputs": [],
   "source": [
    "\n",
    "#Bar Chart\n",
    "# Categorical Graph: A bar chart comparing average, first-year, and last-year GDP for the top 5 countries.\n",
    "def Bar_Top_5(data):\n",
    "    bar_width = 0.25\n",
    "    index = range(len(data))\n",
    "    print(\"index\",index)\n",
    "    # plt.ylim(0, 12000)\n",
    "    # Create bars for Average GDP, First Year Value, and Last Year Value\n",
    "    \n",
    "    plt.bar(index, data['Average_GDP'], bar_width, label='Average GDP')\n",
    "    plt.bar([i + bar_width for i in index], data['1980'], bar_width, label='1980')\n",
    "    plt.bar([i + 2 * bar_width for i in index], data['2028'], bar_width, label='2028')\n",
    "    \n",
    "    # Adding labels and title\n",
    "    plt.xlabel('Countries')\n",
    "    plt.ylabel('GDP Value')\n",
    "    plt.title('Top 5 Countries by Average GDP')\n",
    "    plt.xticks([i + bar_width for i in index], data['Country'])\n",
    "    plt.legend()\n",
    "    \n",
    "    # Show the plot\n",
    "    plt.show()\n",
    "# Calling function \n",
    "Bar_Top_5(top_5_highest_gdp)\n"
   ]
  },
  {
   "cell_type": "code",
   "execution_count": null,
   "id": "d2872cab-965c-4a41-9e6d-6033b466eecc",
   "metadata": {},
   "outputs": [],
   "source": [
    "highest_index = df_modified['Average_GDP'].idxmax()\n",
    "lowest_index = df_modified['Average_GDP'].idxmin()\n",
    "\n",
    "# Create a new DataFrame with the highest and lowest Average_GDP\n",
    "result_df = df_modified.loc[[highest_index, lowest_index]]\n",
    "\n",
    "result_df.set_index('Country', inplace=True)\n",
    "\n",
    "\n",
    "df_transposed = result_df.T\n",
    "\n",
    "# Drop the Average_GDP row if it exists\n",
    "\n",
    "df_transposed = df_transposed.drop('Average_GDP')\n",
    "\n",
    "print(df_transposed)"
   ]
  },
  {
   "cell_type": "code",
   "execution_count": null,
   "id": "73f8c940-829f-4c56-868e-8e7f1cd6312f",
   "metadata": {},
   "outputs": [],
   "source": [
    "# Relational Graph: This could be a line or scatter plot showing GDP trends over time for selected countries.\n",
    "def plot_gdp_trends(data):\n",
    "    plt.figure(figsize=(10, 6))\n",
    "    plt.plot(data.index, data['Luxembourg'], label='Luxembourg', marker='o')\n",
    "    plt.plot(data.index, data['Afghanistan'], label='Afghanistan', marker='o')\n",
    "    \n",
    "    # Adding title and labels\n",
    "    plt.title('GDP Over the Years: Luxembourg vs. Afghanistan')\n",
    "    plt.xlabel('Year')\n",
    "    plt.ylabel('GDP (in USD)')\n",
    "    plt.xticks(rotation=45)\n",
    "    plt.legend()\n",
    "    \n",
    "    \n",
    "    \n",
    "    # Show the plot\n",
    "    plt.show()\n",
    "plot_gdp_trends(df_transposed)"
   ]
  },
  {
   "cell_type": "code",
   "execution_count": null,
   "id": "433386ef-fa0e-4c22-8bd6-22624b67b32a",
   "metadata": {},
   "outputs": [],
   "source": [
    "highest_index = df_modified['Average_GDP'].idxmax()\n",
    "gdp_data = df_modified.iloc[:, 1:]  # Assuming the first column is 'Country' and the rest are years\n",
    "\n",
    "# Calculate the correlation matrix for GDP values across years\n",
    "gdp_data = top_5_highest_gdp.iloc[:, 1:]\n",
    "print('gdp_data',gdp_data)\n",
    "# Calculate basic descriptive statistics\n",
    "descriptive_stats = gdp_data.describe()\n",
    "\n",
    "# Calculate the mean, median, standard deviation, skewness, and kurtosis for each year\n",
    "stats_summary = pd.DataFrame({\n",
    "    'Mean': gdp_data.mean(),\n",
    "    'Median': gdp_data.median(),\n",
    "    'Standard Deviation': gdp_data.std(),\n",
    "    'Skewness': gdp_data.apply(skew),\n",
    "    'Kurtosis': gdp_data.apply(kurtosis)\n",
    "})\n",
    "# print(\"Descriptive Statistics:\\n\", descriptive_stats)\n",
    "# print(\"\\nDetailed Statistics Summary:\\n\", stats_summary)\n",
    "\n",
    "# Calculate the correlation matrix\n",
    "# correlation_matrix = gdp_data.corr()\n",
    "correlation_matrix = gdp_data.corr()\n",
    "print(\"\\nCorrelation Matrix:\\n\", correlation_matrix)\n",
    "\n",
    "\n",
    "\n",
    "\n"
   ]
  },
  {
   "cell_type": "code",
   "execution_count": null,
   "id": "0b0df285-0a85-4a69-aec2-3bd696e4a53c",
   "metadata": {},
   "outputs": [],
   "source": [
    "#Statistical Graph: Box Plot of GDP Distribution Across Years\n",
    "# Box plot \n",
    "df_world.plot(kind='box', rot=45, color='green', figsize=(10, 6))\n",
    "plt.title(\"Distribution of GDP Across Years or Countries\")  # Set an informative title\n",
    "plt.ylabel(\"GDP Value\")  # Label for the y-axis\n",
    "plt.tight_layout()\n",
    "\n",
    "# Show the plot\n",
    "plt.show()"
   ]
  }
 ],
 "metadata": {
  "kernelspec": {
   "display_name": "",
   "name": ""
  },
  "language_info": {
   "name": ""
  }
 },
 "nbformat": 4,
 "nbformat_minor": 5
}
